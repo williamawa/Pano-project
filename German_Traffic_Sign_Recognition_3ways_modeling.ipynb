{
  "nbformat": 4,
  "nbformat_minor": 0,
  "metadata": {
    "kernelspec": {
      "display_name": "Python 3",
      "language": "python",
      "name": "python3"
    },
    "language_info": {
      "codemirror_mode": {
        "name": "ipython",
        "version": 3
      },
      "file_extension": ".py",
      "mimetype": "text/x-python",
      "name": "python",
      "nbconvert_exporter": "python",
      "pygments_lexer": "ipython3",
      "version": "3.5.2"
    },
    "colab": {
      "name": "German-Traffic-Sign-Recognition-3ways_modeling.ipynb",
      "provenance": [],
      "collapsed_sections": [],
      "toc_visible": true,
      "include_colab_link": true
    },
    "accelerator": "GPU"
  },
  "cells": [
    {
      "cell_type": "markdown",
      "metadata": {
        "id": "view-in-github",
        "colab_type": "text"
      },
      "source": [
        "<a href=\"https://colab.research.google.com/github/williamawa/Pano-project/blob/master/German_Traffic_Sign_Recognition_3ways_modeling.ipynb\" target=\"_parent\"><img src=\"https://colab.research.google.com/assets/colab-badge.svg\" alt=\"Open In Colab\"/></a>"
      ]
    },
    {
      "cell_type": "code",
      "metadata": {
        "id": "18pFn7sBWVQL",
        "colab_type": "code",
        "colab": {
          "base_uri": "https://localhost:8080/",
          "height": 52
        },
        "outputId": "053e3074-d953-43ae-ef10-61acd2d3bfca"
      },
      "source": [
        "import keras\n",
        "keras.__version__"
      ],
      "execution_count": null,
      "outputs": [
        {
          "output_type": "stream",
          "text": [
            "Using TensorFlow backend.\n"
          ],
          "name": "stderr"
        },
        {
          "output_type": "execute_result",
          "data": {
            "application/vnd.google.colaboratory.intrinsic+json": {
              "type": "string"
            },
            "text/plain": [
              "'2.3.1'"
            ]
          },
          "metadata": {
            "tags": []
          },
          "execution_count": 1
        }
      ]
    },
    {
      "cell_type": "code",
      "metadata": {
        "id": "jQWml8rVWWFE",
        "colab_type": "code",
        "colab": {
          "base_uri": "https://localhost:8080/",
          "height": 34
        },
        "outputId": "6a8893a8-4f6c-41a6-e83c-bb1e0c7aaeba"
      },
      "source": [
        "import tensorflow as tf\n",
        "print(\"GPU Available: \", tf.config.list_physical_devices('GPU'))"
      ],
      "execution_count": null,
      "outputs": [
        {
          "output_type": "stream",
          "text": [
            "GPU Available:  [PhysicalDevice(name='/physical_device:GPU:0', device_type='GPU')]\n"
          ],
          "name": "stdout"
        }
      ]
    },
    {
      "cell_type": "markdown",
      "metadata": {
        "id": "QL_RnTvoWVQR",
        "colab_type": "text"
      },
      "source": [
        "## Downloading the data\n",
        "\n"
      ]
    },
    {
      "cell_type": "markdown",
      "metadata": {
        "id": "7MKAsjKGWVQR",
        "colab_type": "text"
      },
      "source": [
        "Follow these steps to download and prepare the data:\n",
        "1. Download the train dataset file from https://www.kaggle.com/meowmeowmeowmeowmeow/gtsrb-german-traffic-sign? \n",
        "2. Upload it to your Colab environment. After you upload you should be able to see the file by running the `ls` command.\n",
        "3. Unzip it (use the code below)"
      ]
    },
    {
      "cell_type": "markdown",
      "metadata": {
        "id": "pq-9qAJc0PoW",
        "colab_type": "text"
      },
      "source": [
        "HI"
      ]
    },
    {
      "cell_type": "code",
      "metadata": {
        "id": "RAt38H4Fmghl",
        "colab_type": "code",
        "colab": {
          "base_uri": "https://localhost:8080/",
          "height": 445
        },
        "outputId": "dcf9a880-70e2-469c-ecff-d5e1343d5d72"
      },
      "source": [
        "# Use this code to upload the data as a backup\n",
        "FILEID='1p7K1Aw-fZUxha-aLczwZ6Z6cHvu1pEN1'\n",
        "FILENAME='train.zip'\n",
        "!wget --load-cookies /tmp/cookies.txt \"https://docs.google.com/uc?export=download&confirm=$(wget --quiet --save-cookies /tmp/cookies.txt --keep-session-cookies --no-check-certificate 'https://docs.google.com/uc?export=download&id=$FILEID' -O- | sed -rn 's/.*confirm=([0-9A-Za-z_]+).*/\\1\\n/p')&id=$FILEID\" -O $FILENAME && rm -rf /tmp/cookies.txt"
      ],
      "execution_count": null,
      "outputs": [
        {
          "output_type": "stream",
          "text": [
            "--2020-07-23 10:30:42--  https://docs.google.com/uc?export=download&confirm=HaJ8&id=1p7K1Aw-fZUxha-aLczwZ6Z6cHvu1pEN1\n",
            "Resolving docs.google.com (docs.google.com)... 173.194.76.101, 173.194.76.138, 173.194.76.100, ...\n",
            "Connecting to docs.google.com (docs.google.com)|173.194.76.101|:443... connected.\n",
            "HTTP request sent, awaiting response... 302 Moved Temporarily\n",
            "Location: https://doc-14-ak-docs.googleusercontent.com/docs/securesc/51v463b74fmg256u1hmm1j81qqo8id6c/sli04bbord87tdtsjcg6jkivjl7k47rf/1595500200000/12308918870841825745/11453928758570961506Z/1p7K1Aw-fZUxha-aLczwZ6Z6cHvu1pEN1?e=download [following]\n",
            "--2020-07-23 10:30:42--  https://doc-14-ak-docs.googleusercontent.com/docs/securesc/51v463b74fmg256u1hmm1j81qqo8id6c/sli04bbord87tdtsjcg6jkivjl7k47rf/1595500200000/12308918870841825745/11453928758570961506Z/1p7K1Aw-fZUxha-aLczwZ6Z6cHvu1pEN1?e=download\n",
            "Resolving doc-14-ak-docs.googleusercontent.com (doc-14-ak-docs.googleusercontent.com)... 64.233.166.132, 2a00:1450:400c:c09::84\n",
            "Connecting to doc-14-ak-docs.googleusercontent.com (doc-14-ak-docs.googleusercontent.com)|64.233.166.132|:443... connected.\n",
            "HTTP request sent, awaiting response... 302 Found\n",
            "Location: https://docs.google.com/nonceSigner?nonce=ae7tn1n6bfu3e&continue=https://doc-14-ak-docs.googleusercontent.com/docs/securesc/51v463b74fmg256u1hmm1j81qqo8id6c/sli04bbord87tdtsjcg6jkivjl7k47rf/1595500200000/12308918870841825745/11453928758570961506Z/1p7K1Aw-fZUxha-aLczwZ6Z6cHvu1pEN1?e%3Ddownload&hash=do6aeu5npcr7ugh94utfelpkeps3t22t [following]\n",
            "--2020-07-23 10:30:42--  https://docs.google.com/nonceSigner?nonce=ae7tn1n6bfu3e&continue=https://doc-14-ak-docs.googleusercontent.com/docs/securesc/51v463b74fmg256u1hmm1j81qqo8id6c/sli04bbord87tdtsjcg6jkivjl7k47rf/1595500200000/12308918870841825745/11453928758570961506Z/1p7K1Aw-fZUxha-aLczwZ6Z6cHvu1pEN1?e%3Ddownload&hash=do6aeu5npcr7ugh94utfelpkeps3t22t\n",
            "Connecting to docs.google.com (docs.google.com)|173.194.76.101|:443... connected.\n",
            "HTTP request sent, awaiting response... 302 Found\n",
            "Location: https://doc-14-ak-docs.googleusercontent.com/docs/securesc/51v463b74fmg256u1hmm1j81qqo8id6c/sli04bbord87tdtsjcg6jkivjl7k47rf/1595500200000/12308918870841825745/11453928758570961506Z/1p7K1Aw-fZUxha-aLczwZ6Z6cHvu1pEN1?e=download&nonce=ae7tn1n6bfu3e&user=11453928758570961506Z&hash=h58tqt2qsn6tlj3pqogurid82ainb6so [following]\n",
            "--2020-07-23 10:30:42--  https://doc-14-ak-docs.googleusercontent.com/docs/securesc/51v463b74fmg256u1hmm1j81qqo8id6c/sli04bbord87tdtsjcg6jkivjl7k47rf/1595500200000/12308918870841825745/11453928758570961506Z/1p7K1Aw-fZUxha-aLczwZ6Z6cHvu1pEN1?e=download&nonce=ae7tn1n6bfu3e&user=11453928758570961506Z&hash=h58tqt2qsn6tlj3pqogurid82ainb6so\n",
            "Connecting to doc-14-ak-docs.googleusercontent.com (doc-14-ak-docs.googleusercontent.com)|64.233.166.132|:443... connected.\n",
            "HTTP request sent, awaiting response... 200 OK\n",
            "Length: unspecified [application/zip]\n",
            "Saving to: ‘train.zip’\n",
            "\n",
            "train.zip               [          <=>       ] 249.52M   123MB/s    in 2.0s    \n",
            "\n",
            "2020-07-23 10:30:45 (123 MB/s) - ‘train.zip’ saved [261637948]\n",
            "\n"
          ],
          "name": "stdout"
        }
      ]
    },
    {
      "cell_type": "code",
      "metadata": {
        "id": "6uyKGqmjZR3G",
        "colab_type": "code",
        "colab": {
          "base_uri": "https://localhost:8080/",
          "height": 68
        },
        "outputId": "dfcb6442-a5d0-4064-db9d-529201167c27"
      },
      "source": [
        "ls -lh"
      ],
      "execution_count": null,
      "outputs": [
        {
          "output_type": "stream",
          "text": [
            "total 250M\n",
            "drwxr-xr-x 1 root root 4.0K Jul 10 16:29 \u001b[0m\u001b[01;34msample_data\u001b[0m/\n",
            "-rw-r--r-- 1 root root 250M Jul 23 10:30 train.zip\n"
          ],
          "name": "stdout"
        }
      ]
    },
    {
      "cell_type": "markdown",
      "metadata": {
        "id": "VWYRS9M6B4PA",
        "colab_type": "text"
      },
      "source": [
        "The dataset size above should be 250M otherwise it wasn't downloaded properly. Try running the download cell again!"
      ]
    },
    {
      "cell_type": "code",
      "metadata": {
        "id": "FVWAatkHwKUy",
        "colab_type": "code",
        "colab": {
          "base_uri": "https://localhost:8080/",
          "height": 34
        },
        "outputId": "1c9bd2ad-e16d-4705-f775-5d1b2901a4a1"
      },
      "source": [
        "!rm -r kaggle_original_data"
      ],
      "execution_count": null,
      "outputs": [
        {
          "output_type": "stream",
          "text": [
            "rm: cannot remove 'kaggle_original_data': No such file or directory\n"
          ],
          "name": "stdout"
        }
      ]
    },
    {
      "cell_type": "code",
      "metadata": {
        "id": "f7mb_URtwavs",
        "colab_type": "code",
        "colab": {
          "base_uri": "https://localhost:8080/",
          "height": 34
        },
        "outputId": "9e9470a0-c8d8-443f-f01e-c62cd645c5f6"
      },
      "source": [
        "!rm -r german_traffic_sign"
      ],
      "execution_count": null,
      "outputs": [
        {
          "output_type": "stream",
          "text": [
            "rm: cannot remove 'german_traffic_sign': No such file or directory\n"
          ],
          "name": "stdout"
        }
      ]
    },
    {
      "cell_type": "code",
      "metadata": {
        "id": "mAxK5x8xA_Bg",
        "colab_type": "code",
        "colab": {}
      },
      "source": [
        "!unzip -q train.zip -d kaggle_original_data"
      ],
      "execution_count": null,
      "outputs": []
    },
    {
      "cell_type": "code",
      "metadata": {
        "id": "3_95pNVUZa7x",
        "colab_type": "code",
        "colab": {}
      },
      "source": [
        "!rm -r kaggle_original_data/__MACOSX/\n",
        "!mv kaggle_original_data/82373_191501_upload_Train/* kaggle_original_data\n",
        "!rm -r kaggle_original_data/82373_191501_upload_Train"
      ],
      "execution_count": null,
      "outputs": []
    },
    {
      "cell_type": "code",
      "metadata": {
        "id": "DUqNbKrK1pBS",
        "colab_type": "code",
        "colab": {
          "base_uri": "https://localhost:8080/",
          "height": 187
        },
        "outputId": "1e1df31e-db95-41db-ccf9-2905d98823f4"
      },
      "source": [
        "!ls -l kaggle_original_data | head"
      ],
      "execution_count": null,
      "outputs": [
        {
          "output_type": "stream",
          "text": [
            "total 2044\n",
            "drwxrwxrwx 2 root root  12288 Nov 25  2018 0\n",
            "drwxrwxrwx 2 root root 118784 Nov 25  2018 1\n",
            "drwxrwxrwx 2 root root  98304 Nov 25  2018 10\n",
            "drwxrwxrwx 2 root root  69632 Nov 25  2018 11\n",
            "drwxrwxrwx 2 root root 110592 Nov 25  2018 12\n",
            "drwxrwxrwx 2 root root 110592 Nov 25  2018 13\n",
            "drwxrwxrwx 2 root root  36864 Nov 25  2018 14\n",
            "drwxrwxrwx 2 root root  36864 Nov 25  2018 15\n",
            "drwxrwxrwx 2 root root  20480 Nov 25  2018 16\n"
          ],
          "name": "stdout"
        }
      ]
    },
    {
      "cell_type": "code",
      "metadata": {
        "id": "gEy-j9X_2OUi",
        "colab_type": "code",
        "colab": {}
      },
      "source": [
        "from random import shuffle\n",
        "import os, shutil\n",
        "\n",
        "# list all labels\n",
        "label_dirs = [str(label) for label in range(0,43)]\n",
        "\n",
        "# The path to the directory where the original\n",
        "# dataset was uncompressed\n",
        "original_dataset_dir = '/content/kaggle_original_data'\n",
        "\n",
        "# The directory where we will\n",
        "# store our smaller dataset\n",
        "base_dir = '/content/german_traffic_sign'\n",
        "os.mkdir(base_dir)\n",
        "\n",
        "# Directories for our training,\n",
        "# validation and test splits\n",
        "train_dir = os.path.join(base_dir, 'train')\n",
        "os.mkdir(train_dir)\n",
        "validation_dir = os.path.join(base_dir, 'validation')\n",
        "os.mkdir(validation_dir)\n",
        "test_dir = os.path.join(base_dir, 'test')\n",
        "os.mkdir(test_dir)\n",
        "\n",
        "# Directory with our training/validation/test label pictures\n",
        "for target_dir in [train_dir, validation_dir, test_dir]:\n",
        "    for label in label_dirs:\n",
        "        dir = os.path.join(target_dir, label)\n",
        "        os.mkdir(dir)\n",
        "\n",
        "# Copy 70% of each label to train, 15% to valid, and 15% to test directories\n",
        "for label in label_dirs:\n",
        "    fnames = os.listdir(os.path.join(original_dataset_dir, label))\n",
        "    shuffle(fnames)  # shuffling the list\n",
        "    n_img_start_valid = int(len(fnames)*0.7)\n",
        "    n_img_start_test  = int(len(fnames)*0.85)\n",
        "    for fname in fnames[:n_img_start_valid]:  # train\n",
        "        src = os.path.join(original_dataset_dir, label, fname)\n",
        "        dst = os.path.join(train_dir, label, fname)\n",
        "        shutil.copyfile(src, dst)\n",
        "    for fname in fnames[n_img_start_valid:n_img_start_test]:  # valid\n",
        "        src = os.path.join(original_dataset_dir, label, fname)\n",
        "        dst = os.path.join(validation_dir, label, fname)\n",
        "        shutil.copyfile(src, dst)\n",
        "    for fname in fnames[n_img_start_test:]:  # test\n",
        "        src = os.path.join(original_dataset_dir, label, fname)\n",
        "        dst = os.path.join(test_dir, label, fname)\n",
        "        shutil.copyfile(src, dst)"
      ],
      "execution_count": null,
      "outputs": []
    },
    {
      "cell_type": "markdown",
      "metadata": {
        "id": "lz_EVN0jWVQW",
        "colab_type": "text"
      },
      "source": [
        "As a sanity check, let's count how many pictures we have in each training split (train / validation / test):"
      ]
    },
    {
      "cell_type": "code",
      "metadata": {
        "id": "arkT9J1cCj6S",
        "colab_type": "code",
        "colab": {
          "base_uri": "https://localhost:8080/",
          "height": 748
        },
        "outputId": "5cd97c02-9450-46bf-cf31-c73496fd5a31"
      },
      "source": [
        "total_train_imgs = 0\n",
        "total_valid_imgs = 0\n",
        "for label in label_dirs:\n",
        "    print('total images for label', label, 'in training:', len(os.listdir(os.path.join(train_dir, label))),\n",
        "                                           'in valid:', len(os.listdir(os.path.join(validation_dir, label))),\n",
        "                                            'in test:', len(os.listdir(os.path.join(test_dir, label))))\n",
        "    total_train_imgs += len(os.listdir(os.path.join(train_dir, label)))\n",
        "    total_valid_imgs += len(os.listdir(os.path.join(validation_dir, label)))"
      ],
      "execution_count": null,
      "outputs": [
        {
          "output_type": "stream",
          "text": [
            "total images for label 0 in training: 147 in valid: 31 in test: 32\n",
            "total images for label 1 in training: 1554 in valid: 333 in test: 333\n",
            "total images for label 2 in training: 1575 in valid: 337 in test: 338\n",
            "total images for label 3 in training: 986 in valid: 212 in test: 212\n",
            "total images for label 4 in training: 1386 in valid: 297 in test: 297\n",
            "total images for label 5 in training: 1302 in valid: 279 in test: 279\n",
            "total images for label 6 in training: 294 in valid: 63 in test: 63\n",
            "total images for label 7 in training: 1007 in valid: 217 in test: 216\n",
            "total images for label 8 in training: 986 in valid: 212 in test: 212\n",
            "total images for label 9 in training: 1029 in valid: 220 in test: 221\n",
            "total images for label 10 in training: 1407 in valid: 301 in test: 302\n",
            "total images for label 11 in training: 923 in valid: 199 in test: 198\n",
            "total images for label 12 in training: 1470 in valid: 315 in test: 315\n",
            "total images for label 13 in training: 1512 in valid: 324 in test: 324\n",
            "total images for label 14 in training: 546 in valid: 117 in test: 117\n",
            "total images for label 15 in training: 441 in valid: 94 in test: 95\n",
            "total images for label 16 in training: 294 in valid: 63 in test: 63\n",
            "total images for label 17 in training: 777 in valid: 166 in test: 167\n",
            "total images for label 18 in training: 840 in valid: 180 in test: 180\n",
            "total images for label 19 in training: 147 in valid: 31 in test: 32\n",
            "total images for label 20 in training: 251 in valid: 55 in test: 54\n",
            "total images for label 21 in training: 230 in valid: 50 in test: 50\n",
            "total images for label 22 in training: 273 in valid: 58 in test: 59\n",
            "total images for label 23 in training: 357 in valid: 76 in test: 77\n",
            "total images for label 24 in training: 189 in valid: 40 in test: 41\n",
            "total images for label 25 in training: 1050 in valid: 225 in test: 225\n",
            "total images for label 26 in training: 420 in valid: 90 in test: 90\n",
            "total images for label 27 in training: 168 in valid: 36 in test: 36\n",
            "total images for label 28 in training: 378 in valid: 81 in test: 81\n",
            "total images for label 29 in training: 189 in valid: 40 in test: 41\n",
            "total images for label 30 in training: 315 in valid: 67 in test: 68\n",
            "total images for label 31 in training: 546 in valid: 117 in test: 117\n",
            "total images for label 32 in training: 168 in valid: 36 in test: 36\n",
            "total images for label 33 in training: 482 in valid: 103 in test: 104\n",
            "total images for label 34 in training: 294 in valid: 63 in test: 63\n",
            "total images for label 35 in training: 840 in valid: 180 in test: 180\n",
            "total images for label 36 in training: 273 in valid: 58 in test: 59\n",
            "total images for label 37 in training: 147 in valid: 31 in test: 32\n",
            "total images for label 38 in training: 1449 in valid: 310 in test: 311\n",
            "total images for label 39 in training: 210 in valid: 45 in test: 45\n",
            "total images for label 40 in training: 251 in valid: 55 in test: 54\n",
            "total images for label 41 in training: 168 in valid: 36 in test: 36\n",
            "total images for label 42 in training: 168 in valid: 36 in test: 36\n"
          ],
          "name": "stdout"
        }
      ]
    },
    {
      "cell_type": "code",
      "metadata": {
        "id": "u6OM__a-HEtN",
        "colab_type": "code",
        "colab": {
          "base_uri": "https://localhost:8080/",
          "height": 51
        },
        "outputId": "407d3065-7964-4615-f74a-e41b7d714970"
      },
      "source": [
        "print('Total number of training images:', total_train_imgs)\n",
        "print('Total number of validation images:', total_valid_imgs)"
      ],
      "execution_count": null,
      "outputs": [
        {
          "output_type": "stream",
          "text": [
            "Total number of training images: 27439\n",
            "Total number of validation images: 5879\n"
          ],
          "name": "stdout"
        }
      ]
    },
    {
      "cell_type": "markdown",
      "metadata": {
        "id": "nILJEVrsWVQj",
        "colab_type": "text"
      },
      "source": [
        "## Building our network\n",
        "\n",
        "We've already built a small convnet for MNIST in the previous example, so you should be familiar with them. We will reuse the same \n",
        "general structure: our convnet will be a stack of alternated `Conv2D` (with `relu` activation) and `MaxPooling2D` layers.\n",
        "\n",
        "However, since we are dealing with bigger images and a more complex problem, we will make our network accordingly larger: it will have one \n",
        "more `Conv2D` + `MaxPooling2D` stage. This serves both to augment the capacity of the network, and to further reduce the size of the \n",
        "feature maps, so that they aren't overly large when we reach the `Flatten` layer. Here, since we start from inputs of size 150x150 (a \n",
        "somewhat arbitrary choice), we end up with feature maps of size 7x7 right before the `Flatten` layer.\n",
        "\n",
        "Note that the depth of the feature maps is progressively increasing in the network (from 32 to 128), while the size of the feature maps is \n",
        "decreasing (from 148x148 to 7x7). This is a pattern that you will see in almost all convnets.\n",
        "\n",
        "Since we are attacking a binary classification problem, we are ending the network with a single unit (a `Dense` layer of size 43) and a \n",
        "`softmax` activation. This unit will encode the probability that the network is looking at one class or the other."
      ]
    },
    {
      "cell_type": "markdown",
      "metadata": {
        "id": "9jgk0524KMeI",
        "colab_type": "text"
      },
      "source": [
        "Creating model"
      ]
    },
    {
      "cell_type": "code",
      "metadata": {
        "id": "Y4cjkuBTD3W7",
        "colab_type": "code",
        "colab": {}
      },
      "source": [
        "from keras import models\n",
        "from keras import layers\n",
        "\n",
        "model = models.Sequential()\n",
        "model.add(layers.Conv2D(32, (3, 3), activation='relu', input_shape=(50, 50, 3)))\n",
        "model.add(layers.MaxPooling2D((2,2)))\n",
        "model.add(layers.Conv2D(64, (3, 3), activation='relu'))\n",
        "model.add(layers.MaxPooling2D((2,2)))\n",
        "model.add(layers.Conv2D(128, (3,3), activation='relu'))\n",
        "model.add(layers.MaxPooling2D((2,2)))\n",
        "model.add(layers.Conv2D(128, (3,3), activation='relu'))\n",
        "model.add(layers.MaxPooling2D((2, 2)))\n",
        "model.add(layers.Flatten())\n",
        "model.add(layers.Dropout(0.5))\n",
        "model.add(layers.Dense(128,activation='relu'))\n",
        "model.add(layers.Dense(43, activation='softmax'))"
      ],
      "execution_count": null,
      "outputs": []
    },
    {
      "cell_type": "code",
      "metadata": {
        "id": "Up_UdyqIHAgZ",
        "colab_type": "code",
        "colab": {
          "base_uri": "https://localhost:8080/",
          "height": 561
        },
        "outputId": "07268634-1332-4467-9fa2-75bf96ba8fc8"
      },
      "source": [
        "model.summary()"
      ],
      "execution_count": null,
      "outputs": [
        {
          "output_type": "stream",
          "text": [
            "Model: \"sequential_1\"\n",
            "_________________________________________________________________\n",
            "Layer (type)                 Output Shape              Param #   \n",
            "=================================================================\n",
            "conv2d_1 (Conv2D)            (None, 48, 48, 32)        896       \n",
            "_________________________________________________________________\n",
            "max_pooling2d_1 (MaxPooling2 (None, 24, 24, 32)        0         \n",
            "_________________________________________________________________\n",
            "conv2d_2 (Conv2D)            (None, 22, 22, 64)        18496     \n",
            "_________________________________________________________________\n",
            "max_pooling2d_2 (MaxPooling2 (None, 11, 11, 64)        0         \n",
            "_________________________________________________________________\n",
            "conv2d_3 (Conv2D)            (None, 9, 9, 128)         73856     \n",
            "_________________________________________________________________\n",
            "max_pooling2d_3 (MaxPooling2 (None, 4, 4, 128)         0         \n",
            "_________________________________________________________________\n",
            "conv2d_4 (Conv2D)            (None, 2, 2, 128)         147584    \n",
            "_________________________________________________________________\n",
            "max_pooling2d_4 (MaxPooling2 (None, 1, 1, 128)         0         \n",
            "_________________________________________________________________\n",
            "flatten_1 (Flatten)          (None, 128)               0         \n",
            "_________________________________________________________________\n",
            "dropout_1 (Dropout)          (None, 128)               0         \n",
            "_________________________________________________________________\n",
            "dense_1 (Dense)              (None, 128)               16512     \n",
            "_________________________________________________________________\n",
            "dense_2 (Dense)              (None, 43)                5547      \n",
            "=================================================================\n",
            "Total params: 262,891\n",
            "Trainable params: 262,891\n",
            "Non-trainable params: 0\n",
            "_________________________________________________________________\n"
          ],
          "name": "stdout"
        }
      ]
    },
    {
      "cell_type": "markdown",
      "metadata": {
        "id": "1fcDk6k4KKZD",
        "colab_type": "text"
      },
      "source": [
        "Compile"
      ]
    },
    {
      "cell_type": "code",
      "metadata": {
        "id": "OBTyEIW_Hxur",
        "colab_type": "code",
        "colab": {}
      },
      "source": [
        "from keras import optimizers\n",
        "model.compile(optimizer='rmsprop',\n",
        "              loss='categorical_crossentropy',\n",
        "              metrics=['accuracy'])"
      ],
      "execution_count": null,
      "outputs": []
    },
    {
      "cell_type": "markdown",
      "metadata": {
        "id": "pMY4SsOhKIcv",
        "colab_type": "text"
      },
      "source": [
        "Organizign data"
      ]
    },
    {
      "cell_type": "code",
      "metadata": {
        "id": "938M6lutJwD9",
        "colab_type": "code",
        "colab": {
          "base_uri": "https://localhost:8080/",
          "height": 51
        },
        "outputId": "bdfe9a44-daaf-4321-a438-b81437a98c94"
      },
      "source": [
        "from keras.preprocessing.image import ImageDataGenerator\n",
        "train_ge = ImageDataGenerator(rescale=1./255)\n",
        "\n",
        "test_ge=ImageDataGenerator(rescale=1./255)\n",
        "\n",
        "train_generator= train_ge.flow_from_directory(\n",
        "    train_dir,\n",
        "    target_size=(50, 50),\n",
        "    batch_size=100,\n",
        "    class_mode='categorical'\n",
        ")\n",
        "validation_generator= test_ge.flow_from_directory(\n",
        "    validation_dir,\n",
        "    target_size=(50, 50),\n",
        "    batch_size=100,\n",
        "    class_mode='categorical'\n",
        ")"
      ],
      "execution_count": null,
      "outputs": [
        {
          "output_type": "stream",
          "text": [
            "Found 27439 images belonging to 43 classes.\n",
            "Found 5879 images belonging to 43 classes.\n"
          ],
          "name": "stdout"
        }
      ]
    },
    {
      "cell_type": "code",
      "metadata": {
        "id": "n5DGaYmJKqYh",
        "colab_type": "code",
        "colab": {
          "base_uri": "https://localhost:8080/",
          "height": 51
        },
        "outputId": "6ce811ed-6dd3-42c5-8039-ae08bf389b45"
      },
      "source": [
        "for data_batch, labels_batch in train_generator:\n",
        "    print('data batch shape:', data_batch.shape)\n",
        "    print('labels batch shape:', labels_batch.shape)\n",
        "    break"
      ],
      "execution_count": null,
      "outputs": [
        {
          "output_type": "stream",
          "text": [
            "data batch shape: (100, 50, 50, 3)\n",
            "labels batch shape: (100, 43)\n"
          ],
          "name": "stdout"
        }
      ]
    },
    {
      "cell_type": "markdown",
      "metadata": {
        "id": "1RxJURvxKQsC",
        "colab_type": "text"
      },
      "source": [
        "Traing model"
      ]
    },
    {
      "cell_type": "code",
      "metadata": {
        "id": "PlFAe2-AMqTZ",
        "colab_type": "code",
        "colab": {
          "base_uri": "https://localhost:8080/",
          "height": 1000
        },
        "outputId": "4d6b5745-8070-4f99-f306-317bc70252b7"
      },
      "source": [
        "history = model.fit_generator(\n",
        "      train_generator,\n",
        "      steps_per_epoch=100,\n",
        "      epochs=30,\n",
        "      validation_data=validation_generator,\n",
        "      validation_steps=50)"
      ],
      "execution_count": null,
      "outputs": [
        {
          "output_type": "stream",
          "text": [
            "Epoch 1/30\n",
            "100/100 [==============================] - 14s 137ms/step - loss: 3.3798 - accuracy: 0.1071 - val_loss: 2.7435 - val_accuracy: 0.2954\n",
            "Epoch 2/30\n",
            "100/100 [==============================] - 8s 78ms/step - loss: 2.3787 - accuracy: 0.3240 - val_loss: 1.9006 - val_accuracy: 0.4330\n",
            "Epoch 3/30\n",
            "100/100 [==============================] - 8s 76ms/step - loss: 1.7733 - accuracy: 0.4499 - val_loss: 1.2410 - val_accuracy: 0.5875\n",
            "Epoch 4/30\n",
            "100/100 [==============================] - 8s 77ms/step - loss: 1.3529 - accuracy: 0.5576 - val_loss: 0.7405 - val_accuracy: 0.7060\n",
            "Epoch 5/30\n",
            "100/100 [==============================] - 8s 77ms/step - loss: 1.0264 - accuracy: 0.6651 - val_loss: 0.6576 - val_accuracy: 0.8144\n",
            "Epoch 6/30\n",
            "100/100 [==============================] - 8s 75ms/step - loss: 0.7621 - accuracy: 0.7471 - val_loss: 0.4520 - val_accuracy: 0.8443\n",
            "Epoch 7/30\n",
            "100/100 [==============================] - 8s 75ms/step - loss: 0.5839 - accuracy: 0.8071 - val_loss: 0.2923 - val_accuracy: 0.8792\n",
            "Epoch 8/30\n",
            "100/100 [==============================] - 8s 75ms/step - loss: 0.4892 - accuracy: 0.8399 - val_loss: 0.3031 - val_accuracy: 0.9414\n",
            "Epoch 9/30\n",
            "100/100 [==============================] - 8s 77ms/step - loss: 0.3835 - accuracy: 0.8736 - val_loss: 0.1449 - val_accuracy: 0.9675\n",
            "Epoch 10/30\n",
            "100/100 [==============================] - 8s 77ms/step - loss: 0.3122 - accuracy: 0.8989 - val_loss: 0.1189 - val_accuracy: 0.9580\n",
            "Epoch 11/30\n",
            "100/100 [==============================] - 8s 78ms/step - loss: 0.2820 - accuracy: 0.9106 - val_loss: 0.1053 - val_accuracy: 0.9721\n",
            "Epoch 12/30\n",
            "100/100 [==============================] - 8s 76ms/step - loss: 0.2262 - accuracy: 0.9284 - val_loss: 0.0634 - val_accuracy: 0.9606\n",
            "Epoch 13/30\n",
            "100/100 [==============================] - 7s 73ms/step - loss: 0.2034 - accuracy: 0.9341 - val_loss: 0.0472 - val_accuracy: 0.9851\n",
            "Epoch 14/30\n",
            "100/100 [==============================] - 8s 75ms/step - loss: 0.1830 - accuracy: 0.9432 - val_loss: 0.0881 - val_accuracy: 0.9796\n",
            "Epoch 15/30\n",
            "100/100 [==============================] - 7s 74ms/step - loss: 0.1517 - accuracy: 0.9524 - val_loss: 0.1265 - val_accuracy: 0.9803\n",
            "Epoch 16/30\n",
            "100/100 [==============================] - 7s 74ms/step - loss: 0.1537 - accuracy: 0.9546 - val_loss: 0.0535 - val_accuracy: 0.9833\n",
            "Epoch 17/30\n",
            "100/100 [==============================] - 7s 75ms/step - loss: 0.1323 - accuracy: 0.9567 - val_loss: 0.0277 - val_accuracy: 0.9888\n",
            "Epoch 18/30\n",
            "100/100 [==============================] - 7s 74ms/step - loss: 0.1285 - accuracy: 0.9583 - val_loss: 0.1191 - val_accuracy: 0.9863\n",
            "Epoch 19/30\n",
            "100/100 [==============================] - 7s 75ms/step - loss: 0.1144 - accuracy: 0.9651 - val_loss: 0.0344 - val_accuracy: 0.9894\n",
            "Epoch 20/30\n",
            "100/100 [==============================] - 8s 75ms/step - loss: 0.1045 - accuracy: 0.9663 - val_loss: 0.0197 - val_accuracy: 0.9888\n",
            "Epoch 21/30\n",
            "100/100 [==============================] - 7s 75ms/step - loss: 0.1006 - accuracy: 0.9684 - val_loss: 0.0241 - val_accuracy: 0.9875\n",
            "Epoch 22/30\n",
            "100/100 [==============================] - 7s 73ms/step - loss: 0.0970 - accuracy: 0.9683 - val_loss: 0.1219 - val_accuracy: 0.9886\n",
            "Epoch 23/30\n",
            "100/100 [==============================] - 8s 75ms/step - loss: 0.0938 - accuracy: 0.9734 - val_loss: 0.0144 - val_accuracy: 0.9946\n",
            "Epoch 24/30\n",
            "100/100 [==============================] - 8s 76ms/step - loss: 0.0833 - accuracy: 0.9748 - val_loss: 0.0146 - val_accuracy: 0.9916\n",
            "Epoch 25/30\n",
            "100/100 [==============================] - 8s 78ms/step - loss: 0.0810 - accuracy: 0.9759 - val_loss: 0.0115 - val_accuracy: 0.9930\n",
            "Epoch 26/30\n",
            "100/100 [==============================] - 8s 77ms/step - loss: 0.0694 - accuracy: 0.9782 - val_loss: 0.0035 - val_accuracy: 0.9930\n",
            "Epoch 27/30\n",
            "100/100 [==============================] - 7s 74ms/step - loss: 0.0718 - accuracy: 0.9798 - val_loss: 0.0118 - val_accuracy: 0.9892\n",
            "Epoch 28/30\n",
            "100/100 [==============================] - 8s 77ms/step - loss: 0.0704 - accuracy: 0.9794 - val_loss: 0.0104 - val_accuracy: 0.9924\n",
            "Epoch 29/30\n",
            "100/100 [==============================] - 8s 76ms/step - loss: 0.0696 - accuracy: 0.9786 - val_loss: 0.0166 - val_accuracy: 0.9902\n",
            "Epoch 30/30\n",
            "100/100 [==============================] - 7s 74ms/step - loss: 0.0665 - accuracy: 0.9791 - val_loss: 0.0274 - val_accuracy: 0.9936\n"
          ],
          "name": "stdout"
        }
      ]
    },
    {
      "cell_type": "markdown",
      "metadata": {
        "id": "_9h8r4bLKE7y",
        "colab_type": "text"
      },
      "source": [
        "Ploting "
      ]
    },
    {
      "cell_type": "code",
      "metadata": {
        "id": "59igs2-WM0BI",
        "colab_type": "code",
        "colab": {
          "base_uri": "https://localhost:8080/",
          "height": 545
        },
        "outputId": "ea89c60e-3c55-4ab9-effb-20ba478c8f2f"
      },
      "source": [
        "import matplotlib.pyplot as plt\n",
        "\n",
        "acc = history.history['accuracy']\n",
        "val_acc = history.history['val_accuracy']\n",
        "loss = history.history['loss']\n",
        "val_loss = history.history['val_loss']\n",
        "\n",
        "epochs = range(len(acc))\n",
        "\n",
        "plt.plot(epochs, acc, 'bo', label='Training acc')\n",
        "plt.plot(epochs, val_acc, 'b', label='Validation acc')\n",
        "plt.title('Training and validation accuracy')\n",
        "plt.legend()\n",
        "\n",
        "plt.figure()\n",
        "\n",
        "plt.plot(epochs, loss, 'bo', label='Training loss')\n",
        "plt.plot(epochs, val_loss, 'b', label='Validation loss')\n",
        "plt.title('Training and validation loss')\n",
        "plt.legend()\n",
        "\n",
        "plt.show()"
      ],
      "execution_count": null,
      "outputs": [
        {
          "output_type": "display_data",
          "data": {
            "image/png": "[encoded data removed]",
            "text/plain": [
              "<Figure size 432x288 with 1 Axes>"
            ]
          },
          "metadata": {
            "tags": [],
            "needs_background": "light"
          }
        },
        {
          "output_type": "display_data",
          "data": {
            "image/png": "[encoded data removed]",
            "text/plain": [
              "<Figure size 432x288 with 1 Axes>"
            ]
          },
          "metadata": {
            "tags": [],
            "needs_background": "light"
          }
        }
      ]
    },
    {
      "cell_type": "markdown",
      "metadata": {
        "id": "BaxHrUUYKC6r",
        "colab_type": "text"
      },
      "source": [
        "Checking accuracy with test folder"
      ]
    },
    {
      "cell_type": "code",
      "metadata": {
        "id": "AW2Sk1XlNiSf",
        "colab_type": "code",
        "colab": {
          "base_uri": "https://localhost:8080/",
          "height": 34
        },
        "outputId": "d7ba0bd8-8db0-4711-b097-02427ae730c7"
      },
      "source": [
        "test_gen = ImageDataGenerator(rescale=1./255)\n",
        "test_generator = test_gen.flow_from_directory(\n",
        "    test_dir,\n",
        "    target_size = (50,50),\n",
        "    batch_size = 100,\n",
        "    class_mode='categorical'\n",
        ")\n",
        "test_loss, test_acc = model.evaluate_generator(test_generator,steps= 294)"
      ],
      "execution_count": null,
      "outputs": [
        {
          "output_type": "stream",
          "text": [
            "Found 5891 images belonging to 43 classes.\n"
          ],
          "name": "stdout"
        }
      ]
    },
    {
      "cell_type": "code",
      "metadata": {
        "id": "J4ldcHDLWBt7",
        "colab_type": "code",
        "colab": {
          "base_uri": "https://localhost:8080/",
          "height": 34
        },
        "outputId": "27c55dd4-e68a-4ca0-8a9d-926e60713d55"
      },
      "source": [
        "test_acc"
      ],
      "execution_count": null,
      "outputs": [
        {
          "output_type": "execute_result",
          "data": {
            "text/plain": [
              "0.9945852160453796"
            ]
          },
          "metadata": {
            "tags": []
          },
          "execution_count": 21
        }
      ]
    },
    {
      "cell_type": "markdown",
      "metadata": {
        "id": "8GGnRikqVrw5",
        "colab_type": "text"
      },
      "source": [
        "Augmentation\n"
      ]
    },
    {
      "cell_type": "code",
      "metadata": {
        "id": "oRkurUcQOELM",
        "colab_type": "code",
        "colab": {
          "base_uri": "https://localhost:8080/",
          "height": 34
        },
        "outputId": "c86a2399-983a-41f4-b499-c0e438488c3e"
      },
      "source": [
        "train_ge = ImageDataGenerator(rescale=1./255,rotation_range=40,\n",
        "      width_shift_range=0.2,\n",
        "      height_shift_range=0.2,\n",
        "      shear_range=0.2,\n",
        "      zoom_range=0.2,\n",
        "      horizontal_flip=True,\n",
        "      fill_mode='nearest')\n",
        "train_generator= train_ge.flow_from_directory(\n",
        "    train_dir,\n",
        "    target_size=(50, 50),\n",
        "    batch_size=100,\n",
        "    class_mode='categorical'\n",
        ")"
      ],
      "execution_count": null,
      "outputs": [
        {
          "output_type": "stream",
          "text": [
            "Found 27439 images belonging to 43 classes.\n"
          ],
          "name": "stdout"
        }
      ]
    },
    {
      "cell_type": "markdown",
      "metadata": {
        "id": "Wg1U72bmKAFe",
        "colab_type": "text"
      },
      "source": [
        "Fit and train"
      ]
    },
    {
      "cell_type": "code",
      "metadata": {
        "id": "JFhZiUcxOi5X",
        "colab_type": "code",
        "colab": {
          "base_uri": "https://localhost:8080/",
          "height": 1000
        },
        "outputId": "48b678bc-6b2e-47dc-9e1c-e33021cd0307"
      },
      "source": [
        "model = models.Sequential()\n",
        "model.add(layers.Conv2D(32, (3, 3), activation='relu', input_shape=(50, 50, 3)))\n",
        "model.add(layers.MaxPooling2D((2,2)))\n",
        "model.add(layers.Conv2D(64, (3, 3), activation='relu'))\n",
        "model.add(layers.MaxPooling2D((2,2)))\n",
        "model.add(layers.Conv2D(128, (3,3), activation='relu'))\n",
        "model.add(layers.MaxPooling2D((2,2)))\n",
        "model.add(layers.Conv2D(128, (3,3), activation='relu'))\n",
        "model.add(layers.MaxPooling2D((2, 2)))\n",
        "model.add(layers.Flatten())\n",
        "model.add(layers.Dropout(0.5))\n",
        "model.add(layers.Dense(128,activation='relu'))\n",
        "model.add(layers.Dense(43, activation='softmax'))\n",
        "\n",
        "from keras import optimizers\n",
        "model.compile(optimizer='rmsprop',\n",
        "              loss='categorical_crossentropy',\n",
        "              metrics=['accuracy'])\n",
        "history = model.fit_generator(\n",
        "      train_generator,\n",
        "      steps_per_epoch=100,\n",
        "      epochs=50,\n",
        "      validation_data=validation_generator,\n",
        "      validation_steps=50)"
      ],
      "execution_count": null,
      "outputs": [
        {
          "output_type": "stream",
          "text": [
            "Epoch 1/50\n",
            "100/100 [==============================] - 19s 193ms/step - loss: 3.4878 - accuracy: 0.0712 - val_loss: 3.2603 - val_accuracy: 0.1484\n",
            "Epoch 2/50\n",
            "100/100 [==============================] - 17s 174ms/step - loss: 3.1269 - accuracy: 0.1387 - val_loss: 3.0575 - val_accuracy: 0.1826\n",
            "Epoch 3/50\n",
            "100/100 [==============================] - 18s 176ms/step - loss: 2.8485 - accuracy: 0.1964 - val_loss: 2.6100 - val_accuracy: 0.2681\n",
            "Epoch 4/50\n",
            "100/100 [==============================] - 18s 177ms/step - loss: 2.6368 - accuracy: 0.2347 - val_loss: 2.3232 - val_accuracy: 0.3501\n",
            "Epoch 5/50\n",
            "100/100 [==============================] - 18s 177ms/step - loss: 2.4245 - accuracy: 0.2805 - val_loss: 2.2240 - val_accuracy: 0.3692\n",
            "Epoch 6/50\n",
            "100/100 [==============================] - 18s 178ms/step - loss: 2.2452 - accuracy: 0.3247 - val_loss: 1.8767 - val_accuracy: 0.4210\n",
            "Epoch 7/50\n",
            "100/100 [==============================] - 18s 176ms/step - loss: 2.0423 - accuracy: 0.3661 - val_loss: 1.6377 - val_accuracy: 0.4488\n",
            "Epoch 8/50\n",
            "100/100 [==============================] - 18s 176ms/step - loss: 1.9272 - accuracy: 0.3878 - val_loss: 1.3783 - val_accuracy: 0.5085\n",
            "Epoch 9/50\n",
            "100/100 [==============================] - 18s 178ms/step - loss: 1.8087 - accuracy: 0.4156 - val_loss: 1.4011 - val_accuracy: 0.5061\n",
            "Epoch 10/50\n",
            "100/100 [==============================] - 18s 177ms/step - loss: 1.7019 - accuracy: 0.4501 - val_loss: 1.3115 - val_accuracy: 0.5202\n",
            "Epoch 11/50\n",
            "100/100 [==============================] - 18s 177ms/step - loss: 1.6156 - accuracy: 0.4677 - val_loss: 1.2679 - val_accuracy: 0.5999\n",
            "Epoch 12/50\n",
            "100/100 [==============================] - 18s 178ms/step - loss: 1.5285 - accuracy: 0.4917 - val_loss: 0.9565 - val_accuracy: 0.5929\n",
            "Epoch 13/50\n",
            "100/100 [==============================] - 18s 180ms/step - loss: 1.4595 - accuracy: 0.5140 - val_loss: 1.0775 - val_accuracy: 0.6280\n",
            "Epoch 14/50\n",
            "100/100 [==============================] - 18s 180ms/step - loss: 1.4154 - accuracy: 0.5304 - val_loss: 0.9768 - val_accuracy: 0.6332\n",
            "Epoch 15/50\n",
            "100/100 [==============================] - 18s 178ms/step - loss: 1.3153 - accuracy: 0.5559 - val_loss: 0.8146 - val_accuracy: 0.7128\n",
            "Epoch 16/50\n",
            "100/100 [==============================] - 18s 181ms/step - loss: 1.2739 - accuracy: 0.5682 - val_loss: 0.9435 - val_accuracy: 0.6993\n",
            "Epoch 17/50\n",
            "100/100 [==============================] - 18s 178ms/step - loss: 1.2175 - accuracy: 0.5865 - val_loss: 0.8734 - val_accuracy: 0.7080\n",
            "Epoch 18/50\n",
            "100/100 [==============================] - 18s 176ms/step - loss: 1.1727 - accuracy: 0.6023 - val_loss: 0.9418 - val_accuracy: 0.6965\n",
            "Epoch 19/50\n",
            "100/100 [==============================] - 18s 177ms/step - loss: 1.1084 - accuracy: 0.6228 - val_loss: 0.4553 - val_accuracy: 0.7441\n",
            "Epoch 20/50\n",
            "100/100 [==============================] - 18s 177ms/step - loss: 1.0705 - accuracy: 0.6414 - val_loss: 0.5745 - val_accuracy: 0.7918\n",
            "Epoch 21/50\n",
            "100/100 [==============================] - 18s 177ms/step - loss: 1.0622 - accuracy: 0.6373 - val_loss: 0.7029 - val_accuracy: 0.7383\n",
            "Epoch 22/50\n",
            "100/100 [==============================] - 18s 177ms/step - loss: 1.0004 - accuracy: 0.6601 - val_loss: 0.5344 - val_accuracy: 0.8194\n",
            "Epoch 23/50\n",
            "100/100 [==============================] - 18s 177ms/step - loss: 0.9749 - accuracy: 0.6683 - val_loss: 0.6781 - val_accuracy: 0.8182\n",
            "Epoch 24/50\n",
            "100/100 [==============================] - 17s 175ms/step - loss: 0.9283 - accuracy: 0.6889 - val_loss: 0.4624 - val_accuracy: 0.8379\n",
            "Epoch 25/50\n",
            "100/100 [==============================] - 18s 178ms/step - loss: 0.8971 - accuracy: 0.6938 - val_loss: 0.4430 - val_accuracy: 0.8229\n",
            "Epoch 26/50\n",
            "100/100 [==============================] - 18s 177ms/step - loss: 0.8841 - accuracy: 0.6962 - val_loss: 0.4730 - val_accuracy: 0.8265\n",
            "Epoch 27/50\n",
            "100/100 [==============================] - 18s 177ms/step - loss: 0.8266 - accuracy: 0.7182 - val_loss: 0.5360 - val_accuracy: 0.8446\n",
            "Epoch 28/50\n",
            "100/100 [==============================] - 18s 177ms/step - loss: 0.8154 - accuracy: 0.7255 - val_loss: 0.4445 - val_accuracy: 0.8518\n",
            "Epoch 29/50\n",
            "100/100 [==============================] - 18s 177ms/step - loss: 0.7981 - accuracy: 0.7349 - val_loss: 0.3830 - val_accuracy: 0.8472\n",
            "Epoch 30/50\n",
            "100/100 [==============================] - 18s 177ms/step - loss: 0.7724 - accuracy: 0.7394 - val_loss: 0.3675 - val_accuracy: 0.8389\n",
            "Epoch 31/50\n",
            "100/100 [==============================] - 18s 177ms/step - loss: 0.7692 - accuracy: 0.7406 - val_loss: 0.3051 - val_accuracy: 0.8859\n",
            "Epoch 32/50\n",
            "100/100 [==============================] - 18s 178ms/step - loss: 0.7343 - accuracy: 0.7520 - val_loss: 0.2980 - val_accuracy: 0.8909\n",
            "Epoch 33/50\n",
            "100/100 [==============================] - 18s 177ms/step - loss: 0.7087 - accuracy: 0.7577 - val_loss: 0.3910 - val_accuracy: 0.8840\n",
            "Epoch 34/50\n",
            "100/100 [==============================] - 18s 180ms/step - loss: 0.6866 - accuracy: 0.7662 - val_loss: 0.2964 - val_accuracy: 0.8958\n",
            "Epoch 35/50\n",
            "100/100 [==============================] - 18s 176ms/step - loss: 0.6817 - accuracy: 0.7691 - val_loss: 0.5364 - val_accuracy: 0.8592\n",
            "Epoch 36/50\n",
            "100/100 [==============================] - 18s 178ms/step - loss: 0.6708 - accuracy: 0.7748 - val_loss: 0.2680 - val_accuracy: 0.9120\n",
            "Epoch 37/50\n",
            "100/100 [==============================] - 18s 176ms/step - loss: 0.6232 - accuracy: 0.7905 - val_loss: 0.2180 - val_accuracy: 0.8964\n",
            "Epoch 38/50\n",
            "100/100 [==============================] - 18s 177ms/step - loss: 0.6437 - accuracy: 0.7873 - val_loss: 0.4165 - val_accuracy: 0.9024\n",
            "Epoch 39/50\n",
            "100/100 [==============================] - 18s 178ms/step - loss: 0.6251 - accuracy: 0.7923 - val_loss: 0.3521 - val_accuracy: 0.8895\n",
            "Epoch 40/50\n",
            "100/100 [==============================] - 18s 178ms/step - loss: 0.6037 - accuracy: 0.8031 - val_loss: 0.2477 - val_accuracy: 0.9240\n",
            "Epoch 41/50\n",
            "100/100 [==============================] - 18s 176ms/step - loss: 0.5803 - accuracy: 0.8037 - val_loss: 0.3405 - val_accuracy: 0.9110\n",
            "Epoch 42/50\n",
            "100/100 [==============================] - 18s 178ms/step - loss: 0.5840 - accuracy: 0.8049 - val_loss: 0.1914 - val_accuracy: 0.9211\n",
            "Epoch 43/50\n",
            "100/100 [==============================] - 18s 176ms/step - loss: 0.5676 - accuracy: 0.8131 - val_loss: 0.3414 - val_accuracy: 0.9345\n",
            "Epoch 44/50\n",
            "100/100 [==============================] - 18s 177ms/step - loss: 0.5696 - accuracy: 0.8124 - val_loss: 0.2157 - val_accuracy: 0.9251\n",
            "Epoch 45/50\n",
            "100/100 [==============================] - 18s 176ms/step - loss: 0.5574 - accuracy: 0.8151 - val_loss: 0.2469 - val_accuracy: 0.9269\n",
            "Epoch 46/50\n",
            "100/100 [==============================] - 17s 175ms/step - loss: 0.5348 - accuracy: 0.8218 - val_loss: 0.2578 - val_accuracy: 0.9066\n",
            "Epoch 47/50\n",
            "100/100 [==============================] - 18s 176ms/step - loss: 0.5213 - accuracy: 0.8311 - val_loss: 0.2564 - val_accuracy: 0.9273\n",
            "Epoch 48/50\n",
            "100/100 [==============================] - 18s 177ms/step - loss: 0.5237 - accuracy: 0.8265 - val_loss: 0.2360 - val_accuracy: 0.9104\n",
            "Epoch 49/50\n",
            "100/100 [==============================] - 18s 179ms/step - loss: 0.5243 - accuracy: 0.8283 - val_loss: 0.1498 - val_accuracy: 0.9277\n",
            "Epoch 50/50\n",
            "100/100 [==============================] - 18s 177ms/step - loss: 0.5030 - accuracy: 0.8315 - val_loss: 0.4133 - val_accuracy: 0.8885\n"
          ],
          "name": "stdout"
        }
      ]
    },
    {
      "cell_type": "markdown",
      "metadata": {
        "id": "_r_i9N4UJ8uc",
        "colab_type": "text"
      },
      "source": [
        "Plot\n"
      ]
    },
    {
      "cell_type": "code",
      "metadata": {
        "id": "9p1CDBb7fSHW",
        "colab_type": "code",
        "colab": {
          "base_uri": "https://localhost:8080/",
          "height": 545
        },
        "outputId": "72191462-9676-4162-b64d-0bad00c6f26d"
      },
      "source": [
        "import matplotlib.pyplot as plt\n",
        "\n",
        "acc = history.history['accuracy']\n",
        "val_acc = history.history['val_accuracy']\n",
        "loss = history.history['loss']\n",
        "val_loss = history.history['val_loss']\n",
        "\n",
        "epochs = range(len(acc))\n",
        "\n",
        "plt.plot(epochs, acc, 'bo', label='Training acc')\n",
        "plt.plot(epochs, val_acc, 'b', label='Validation acc')\n",
        "plt.title('Training and validation accuracy')\n",
        "plt.legend()\n",
        "\n",
        "plt.figure()\n",
        "\n",
        "plt.plot(epochs, loss, 'bo', label='Training loss')\n",
        "plt.plot(epochs, val_loss, 'b', label='Validation loss')\n",
        "plt.title('Training and validation loss')\n",
        "plt.legend()\n",
        "\n",
        "plt.show()"
      ],
      "execution_count": null,
      "outputs": [
        {
          "output_type": "display_data",
          "data": {
            "image/png": "[encoded data removed]",
            "text/plain": [
              "<Figure size 432x288 with 1 Axes>"
            ]
          },
          "metadata": {
            "tags": [],
            "needs_background": "light"
          }
        },
        {
          "output_type": "display_data",
          "data": {
            "image/png": "[encoded data removed]",
            "text/plain": [
              "<Figure size 432x288 with 1 Axes>"
            ]
          },
          "metadata": {
            "tags": [],
            "needs_background": "light"
          }
        }
      ]
    },
    {
      "cell_type": "markdown",
      "metadata": {
        "id": "Zy05ij5AKV5z",
        "colab_type": "text"
      },
      "source": [
        "Accuracy Check"
      ]
    },
    {
      "cell_type": "code",
      "metadata": {
        "id": "eg-6JwVvUiFR",
        "colab_type": "code",
        "colab": {}
      },
      "source": [
        "test_loss, test_acc = model.evaluate_generator(test_generator,steps=200)"
      ],
      "execution_count": null,
      "outputs": []
    },
    {
      "cell_type": "code",
      "metadata": {
        "id": "sj318Cv-Uvi2",
        "colab_type": "code",
        "colab": {
          "base_uri": "https://localhost:8080/",
          "height": 34
        },
        "outputId": "f2cbb081-201c-47e5-d017-e3725364d3b4"
      },
      "source": [
        "test_acc"
      ],
      "execution_count": null,
      "outputs": [
        {
          "output_type": "execute_result",
          "data": {
            "text/plain": [
              "0.8977620005607605"
            ]
          },
          "metadata": {
            "tags": []
          },
          "execution_count": 26
        }
      ]
    },
    {
      "cell_type": "markdown",
      "metadata": {
        "id": "SuquUrgGaiA-",
        "colab_type": "text"
      },
      "source": [
        "Transfering\n"
      ]
    },
    {
      "cell_type": "code",
      "metadata": {
        "id": "T3dZiYNVc8XI",
        "colab_type": "code",
        "colab": {
          "base_uri": "https://localhost:8080/",
          "height": 71
        },
        "outputId": "9ce3ee59-b721-49aa-9962-c6a5a71ac233"
      },
      "source": [
        "from keras.applications import VGG16\n",
        "\n",
        "conv_base = VGG16(weights='imagenet',\n",
        "                  include_top=False,\n",
        "                  input_shape=(50, 50, 3))\n",
        "from keras import models\n",
        "from keras import layers\n",
        "\n",
        "model = models.Sequential()\n",
        "model.add(conv_base)\n",
        "model.add(layers.Flatten())\n",
        "model.add(layers.Dense(128, activation='relu'))\n",
        "model.add(layers.Dense(43, activation='softmax'))\n",
        "\n",
        "conv_base.trainable = False"
      ],
      "execution_count": null,
      "outputs": [
        {
          "output_type": "stream",
          "text": [
            "Downloading data from https://github.com/fchollet/deep-learning-models/releases/download/v0.1/vgg16_weights_tf_dim_ordering_tf_kernels_notop.h5\n",
            "58892288/58889256 [==============================] - 3s 0us/step\n"
          ],
          "name": "stdout"
        }
      ]
    },
    {
      "cell_type": "markdown",
      "metadata": {
        "id": "ZMGWQn4cKeMS",
        "colab_type": "text"
      },
      "source": [
        "Remodeling and training VGG16"
      ]
    },
    {
      "cell_type": "code",
      "metadata": {
        "id": "nn217T2Ud09A",
        "colab_type": "code",
        "colab": {
          "base_uri": "https://localhost:8080/",
          "height": 1000
        },
        "outputId": "45dd410d-0f61-467b-c2d4-3a44b2cd84b6"
      },
      "source": [
        "from keras.preprocessing.image import ImageDataGenerator\n",
        "\n",
        "train_ge = ImageDataGenerator(\n",
        "      rescale=1./255)\n",
        "\n",
        "# Note that the validation data should not be augmented!\n",
        "validation_ge = ImageDataGenerator(rescale=1./255)\n",
        "\n",
        "train_generator = train_ge.flow_from_directory(\n",
        "        # This is the target directory\n",
        "        train_dir,\n",
        "        # All images will be resized to 150x150\n",
        "        target_size=(50, 50),\n",
        "        batch_size=20,\n",
        "        # Since we use binary_crossentropy loss, we need binary labels\n",
        "        class_mode='categorical')\n",
        "\n",
        "validation_generator = validation_ge.flow_from_directory(\n",
        "        validation_dir,\n",
        "        target_size=(50, 50),\n",
        "        batch_size=20,\n",
        "        class_mode='categorical')\n",
        "\n",
        "model.compile(loss='categorical_crossentropy',\n",
        "              optimizer='rmsprop',\n",
        "              metrics=['acc'])\n",
        "\n",
        "history = model.fit_generator(\n",
        "      train_generator,\n",
        "      steps_per_epoch=5000,\n",
        "      epochs=30,\n",
        "      validation_data=validation_generator,\n",
        "      validation_steps=50,\n",
        "      verbose=2)"
      ],
      "execution_count": null,
      "outputs": [
        {
          "output_type": "stream",
          "text": [
            "Found 27439 images belonging to 43 classes.\n",
            "Found 5879 images belonging to 43 classes.\n",
            "Epoch 1/30\n",
            " - 129s - loss: 1.2207 - acc: 0.6211 - val_loss: 1.1242 - val_acc: 0.7040\n",
            "Epoch 2/30\n",
            " - 128s - loss: 0.6744 - acc: 0.7839 - val_loss: 0.3516 - val_acc: 0.7660\n",
            "Epoch 3/30\n",
            " - 129s - loss: 0.5030 - acc: 0.8370 - val_loss: 0.5347 - val_acc: 0.7990\n",
            "Epoch 4/30\n",
            " - 128s - loss: 0.4030 - acc: 0.8684 - val_loss: 1.4028 - val_acc: 0.7980\n",
            "Epoch 5/30\n",
            " - 129s - loss: 0.3341 - acc: 0.8909 - val_loss: 0.4697 - val_acc: 0.7990\n",
            "Epoch 6/30\n",
            " - 128s - loss: 0.2858 - acc: 0.9064 - val_loss: 0.3277 - val_acc: 0.8328\n",
            "Epoch 7/30\n",
            " - 128s - loss: 0.2456 - acc: 0.9188 - val_loss: 0.1601 - val_acc: 0.8310\n",
            "Epoch 8/30\n",
            " - 128s - loss: 0.2171 - acc: 0.9279 - val_loss: 0.4225 - val_acc: 0.8580\n",
            "Epoch 9/30\n",
            " - 128s - loss: 0.1918 - acc: 0.9365 - val_loss: 0.4831 - val_acc: 0.8390\n",
            "Epoch 10/30\n",
            " - 129s - loss: 0.1715 - acc: 0.9426 - val_loss: 0.1850 - val_acc: 0.8470\n",
            "Epoch 11/30\n",
            " - 129s - loss: 0.1537 - acc: 0.9487 - val_loss: 1.2325 - val_acc: 0.8600\n",
            "Epoch 12/30\n",
            " - 129s - loss: 0.1375 - acc: 0.9535 - val_loss: 0.6831 - val_acc: 0.8418\n",
            "Epoch 13/30\n",
            " - 129s - loss: 0.1269 - acc: 0.9573 - val_loss: 1.7156 - val_acc: 0.8360\n",
            "Epoch 14/30\n",
            " - 129s - loss: 0.1172 - acc: 0.9599 - val_loss: 0.3854 - val_acc: 0.8360\n",
            "Epoch 15/30\n",
            " - 129s - loss: 0.1057 - acc: 0.9643 - val_loss: 0.5518 - val_acc: 0.8590\n",
            "Epoch 16/30\n",
            " - 129s - loss: 0.0984 - acc: 0.9670 - val_loss: 2.6556 - val_acc: 0.8580\n",
            "Epoch 17/30\n",
            " - 129s - loss: 0.0908 - acc: 0.9690 - val_loss: 0.5459 - val_acc: 0.8730\n",
            "Epoch 18/30\n",
            " - 129s - loss: 0.0858 - acc: 0.9714 - val_loss: 0.7179 - val_acc: 0.8869\n",
            "Epoch 19/30\n",
            " - 130s - loss: 0.0796 - acc: 0.9728 - val_loss: 3.3482 - val_acc: 0.8580\n",
            "Epoch 20/30\n",
            " - 130s - loss: 0.0740 - acc: 0.9745 - val_loss: 2.7730 - val_acc: 0.8560\n",
            "Epoch 21/30\n",
            " - 129s - loss: 0.0693 - acc: 0.9766 - val_loss: 2.9718 - val_acc: 0.8630\n",
            "Epoch 22/30\n",
            " - 130s - loss: 0.0646 - acc: 0.9780 - val_loss: 1.5176 - val_acc: 0.8500\n",
            "Epoch 23/30\n",
            " - 129s - loss: 0.0628 - acc: 0.9784 - val_loss: 1.0883 - val_acc: 0.8480\n",
            "Epoch 24/30\n",
            " - 130s - loss: 0.0586 - acc: 0.9803 - val_loss: 2.4282 - val_acc: 0.8478\n",
            "Epoch 25/30\n",
            " - 129s - loss: 0.0558 - acc: 0.9813 - val_loss: 1.5597 - val_acc: 0.8450\n",
            "Epoch 26/30\n",
            " - 129s - loss: 0.0535 - acc: 0.9819 - val_loss: 0.9506 - val_acc: 0.8640\n",
            "Epoch 27/30\n",
            " - 129s - loss: 0.0507 - acc: 0.9828 - val_loss: 1.7459 - val_acc: 0.8720\n",
            "Epoch 28/30\n",
            " - 129s - loss: 0.0493 - acc: 0.9834 - val_loss: 0.7629 - val_acc: 0.8500\n",
            "Epoch 29/30\n",
            " - 130s - loss: 0.0467 - acc: 0.9842 - val_loss: 2.0200 - val_acc: 0.8580\n",
            "Epoch 30/30\n",
            " - 129s - loss: 0.0453 - acc: 0.9844 - val_loss: 0.6334 - val_acc: 0.8679\n"
          ],
          "name": "stdout"
        }
      ]
    },
    {
      "cell_type": "markdown",
      "metadata": {
        "id": "X2K_zeheKiii",
        "colab_type": "text"
      },
      "source": [
        "Plot"
      ]
    },
    {
      "cell_type": "code",
      "metadata": {
        "id": "66zUiO3XeJ4Q",
        "colab_type": "code",
        "colab": {
          "base_uri": "https://localhost:8080/",
          "height": 545
        },
        "outputId": "57fe0b9f-a60d-4e4a-ee79-b70adead3372"
      },
      "source": [
        "import matplotlib.pyplot as plt\n",
        "\n",
        "acc = history.history['acc']\n",
        "val_acc = history.history['val_acc']\n",
        "loss = history.history['loss']\n",
        "val_loss = history.history['val_loss']\n",
        "\n",
        "epochs = range(len(acc))\n",
        "\n",
        "plt.plot(epochs, acc, 'bo', label='Training acc')\n",
        "plt.plot(epochs, val_acc, 'b', label='Validation acc')\n",
        "plt.title('Training and validation accuracy')\n",
        "plt.legend()\n",
        "\n",
        "plt.figure()\n",
        "\n",
        "plt.plot(epochs, loss, 'bo', label='Training loss')\n",
        "plt.plot(epochs, val_loss, 'b', label='Validation loss')\n",
        "plt.title('Training and validation loss')\n",
        "plt.legend()\n",
        "\n",
        "plt.show()"
      ],
      "execution_count": null,
      "outputs": [
        {
          "output_type": "display_data",
          "data": {
            "image/png": "[encoded data removed]",
            "text/plain": [
              "<Figure size 432x288 with 1 Axes>"
            ]
          },
          "metadata": {
            "tags": [],
            "needs_background": "light"
          }
        },
        {
          "output_type": "display_data",
          "data": {
            "image/png": "[encoded data removed]",
            "text/plain": [
              "<Figure size 432x288 with 1 Axes>"
            ]
          },
          "metadata": {
            "tags": [],
            "needs_background": "light"
          }
        }
      ]
    },
    {
      "cell_type": "markdown",
      "metadata": {
        "id": "qOwSuAX-My1a",
        "colab_type": "text"
      },
      "source": [
        "Fine-tuning"
      ]
    },
    {
      "cell_type": "code",
      "metadata": {
        "id": "lvN58FBpMygh",
        "colab_type": "code",
        "colab": {
          "base_uri": "https://localhost:8080/",
          "height": 1000
        },
        "outputId": "3735367a-f512-48e5-9a2b-44a684b90ebb"
      },
      "source": [
        "model = models.Sequential()\n",
        "model.add(conv_base)\n",
        "model.add(layers.Flatten())\n",
        "model.add(layers.Dense(128, activation='relu'))\n",
        "model.add(layers.Dense(43, activation='softmax'))\n",
        "\n",
        "conv_base.trainable = True\n",
        "\n",
        "set_trainable = False\n",
        "for layer in conv_base.layers:\n",
        "    if layer.name == 'block5_conv1':\n",
        "        set_trainable = True\n",
        "    if set_trainable:\n",
        "        layer.trainable = True\n",
        "    else:\n",
        "        layer.trainable = False\n",
        "        \n",
        "model.compile(loss='categorical_crossentropy',\n",
        "              optimizer=optimizers.RMSprop(lr=1),\n",
        "              metrics=['acc'])\n",
        "\n",
        "history = model.fit_generator(\n",
        "      train_generator,\n",
        "      steps_per_epoch=5000,\n",
        "      epochs=30,\n",
        "      validation_data=validation_generator,\n",
        "      validation_steps=50,\n",
        "      verbose=2)"
      ],
      "execution_count": null,
      "outputs": [
        {
          "output_type": "stream",
          "text": [
            "Epoch 1/30\n",
            " - 208s - loss: 73033115.8055 - acc: 0.0449 - val_loss: 3.9292 - val_acc: 0.0520\n",
            "Epoch 2/30\n",
            " - 207s - loss: 3.8944 - acc: 0.0445 - val_loss: 3.6182 - val_acc: 0.0440\n",
            "Epoch 3/30\n",
            " - 207s - loss: 3.8931 - acc: 0.0441 - val_loss: 4.1274 - val_acc: 0.0490\n",
            "Epoch 4/30\n",
            " - 206s - loss: 3.8938 - acc: 0.0445 - val_loss: 3.7632 - val_acc: 0.0560\n",
            "Epoch 5/30\n",
            " - 206s - loss: 3.8920 - acc: 0.0440 - val_loss: 4.1464 - val_acc: 0.0030\n",
            "Epoch 6/30\n",
            " - 206s - loss: 3.8943 - acc: 0.0439 - val_loss: 3.7186 - val_acc: 0.0541\n",
            "Epoch 7/30\n",
            " - 207s - loss: 3.8907 - acc: 0.0443 - val_loss: 3.7422 - val_acc: 0.0090\n",
            "Epoch 8/30\n",
            " - 207s - loss: 3.8973 - acc: 0.0429 - val_loss: 3.5981 - val_acc: 0.0380\n",
            "Epoch 9/30\n",
            " - 206s - loss: 3.8932 - acc: 0.0436 - val_loss: 4.1019 - val_acc: 0.0550\n",
            "Epoch 10/30\n",
            " - 207s - loss: 3.8955 - acc: 0.0445 - val_loss: 4.0762 - val_acc: 0.0480\n",
            "Epoch 11/30\n",
            " - 206s - loss: 3.8944 - acc: 0.0432 - val_loss: 3.6947 - val_acc: 0.0330\n",
            "Epoch 12/30\n",
            " - 206s - loss: 3.8941 - acc: 0.0444 - val_loss: 4.4725 - val_acc: 0.0470\n",
            "Epoch 13/30\n",
            " - 207s - loss: 3.8912 - acc: 0.0439 - val_loss: 3.5120 - val_acc: 0.0550\n",
            "Epoch 14/30\n",
            " - 207s - loss: 3.8931 - acc: 0.0443 - val_loss: 4.1741 - val_acc: 0.0350\n",
            "Epoch 15/30\n",
            " - 208s - loss: 3.8950 - acc: 0.0450 - val_loss: 3.7861 - val_acc: 0.0630\n",
            "Epoch 16/30\n",
            " - 208s - loss: 3.8957 - acc: 0.0428 - val_loss: 4.4580 - val_acc: 0.0550\n",
            "Epoch 17/30\n",
            " - 207s - loss: 3.8941 - acc: 0.0448 - val_loss: 3.7609 - val_acc: 0.0300\n",
            "Epoch 18/30\n",
            " - 207s - loss: 3.8923 - acc: 0.0450 - val_loss: 3.3864 - val_acc: 0.0130\n",
            "Epoch 19/30\n",
            " - 207s - loss: 3.8957 - acc: 0.0427 - val_loss: 4.0979 - val_acc: 0.0490\n",
            "Epoch 20/30\n",
            " - 207s - loss: 3.8948 - acc: 0.0441 - val_loss: 3.9469 - val_acc: 0.0490\n",
            "Epoch 21/30\n",
            " - 207s - loss: 3.8946 - acc: 0.0448 - val_loss: 4.1452 - val_acc: 0.0650\n",
            "Epoch 22/30\n",
            " - 207s - loss: 3.8960 - acc: 0.0445 - val_loss: 3.7827 - val_acc: 0.0540\n",
            "Epoch 23/30\n",
            " - 206s - loss: 3.8945 - acc: 0.0441 - val_loss: 3.9212 - val_acc: 0.0540\n",
            "Epoch 24/30\n",
            " - 206s - loss: 3.8937 - acc: 0.0439 - val_loss: 4.0826 - val_acc: 0.0410\n",
            "Epoch 25/30\n",
            " - 206s - loss: 3.8960 - acc: 0.0448 - val_loss: 3.6122 - val_acc: 0.0640\n",
            "Epoch 26/30\n",
            " - 206s - loss: 3.8921 - acc: 0.0440 - val_loss: 4.0014 - val_acc: 0.0240\n",
            "Epoch 27/30\n"
          ],
          "name": "stdout"
        },
        {
          "output_type": "error",
          "ename": "KeyboardInterrupt",
          "evalue": "ignored",
          "traceback": [
            "\u001b[0;31m---------------------------------------------------------------------------\u001b[0m",
            "\u001b[0;31mKeyboardInterrupt\u001b[0m                         Traceback (most recent call last)",
            "\u001b[0;32m<ipython-input-38-aac836404f64>\u001b[0m in \u001b[0;36m<module>\u001b[0;34m()\u001b[0m\n\u001b[1;32m     26\u001b[0m       \u001b[0mvalidation_data\u001b[0m\u001b[0;34m=\u001b[0m\u001b[0mvalidation_generator\u001b[0m\u001b[0;34m,\u001b[0m\u001b[0;34m\u001b[0m\u001b[0;34m\u001b[0m\u001b[0m\n\u001b[1;32m     27\u001b[0m       \u001b[0mvalidation_steps\u001b[0m\u001b[0;34m=\u001b[0m\u001b[0;36m50\u001b[0m\u001b[0;34m,\u001b[0m\u001b[0;34m\u001b[0m\u001b[0;34m\u001b[0m\u001b[0m\n\u001b[0;32m---> 28\u001b[0;31m       verbose=2)\n\u001b[0m",
            "\u001b[0;32m/usr/local/lib/python3.6/dist-packages/keras/legacy/interfaces.py\u001b[0m in \u001b[0;36mwrapper\u001b[0;34m(*args, **kwargs)\u001b[0m\n\u001b[1;32m     89\u001b[0m                 warnings.warn('Update your `' + object_name + '` call to the ' +\n\u001b[1;32m     90\u001b[0m                               'Keras 2 API: ' + signature, stacklevel=2)\n\u001b[0;32m---> 91\u001b[0;31m             \u001b[0;32mreturn\u001b[0m \u001b[0mfunc\u001b[0m\u001b[0;34m(\u001b[0m\u001b[0;34m*\u001b[0m\u001b[0margs\u001b[0m\u001b[0;34m,\u001b[0m \u001b[0;34m**\u001b[0m\u001b[0mkwargs\u001b[0m\u001b[0;34m)\u001b[0m\u001b[0;34m\u001b[0m\u001b[0;34m\u001b[0m\u001b[0m\n\u001b[0m\u001b[1;32m     92\u001b[0m         \u001b[0mwrapper\u001b[0m\u001b[0;34m.\u001b[0m\u001b[0m_original_function\u001b[0m \u001b[0;34m=\u001b[0m \u001b[0mfunc\u001b[0m\u001b[0;34m\u001b[0m\u001b[0;34m\u001b[0m\u001b[0m\n\u001b[1;32m     93\u001b[0m         \u001b[0;32mreturn\u001b[0m \u001b[0mwrapper\u001b[0m\u001b[0;34m\u001b[0m\u001b[0;34m\u001b[0m\u001b[0m\n",
            "\u001b[0;32m/usr/local/lib/python3.6/dist-packages/keras/engine/training.py\u001b[0m in \u001b[0;36mfit_generator\u001b[0;34m(self, generator, steps_per_epoch, epochs, verbose, callbacks, validation_data, validation_steps, validation_freq, class_weight, max_queue_size, workers, use_multiprocessing, shuffle, initial_epoch)\u001b[0m\n\u001b[1;32m   1730\u001b[0m             \u001b[0muse_multiprocessing\u001b[0m\u001b[0;34m=\u001b[0m\u001b[0muse_multiprocessing\u001b[0m\u001b[0;34m,\u001b[0m\u001b[0;34m\u001b[0m\u001b[0;34m\u001b[0m\u001b[0m\n\u001b[1;32m   1731\u001b[0m             \u001b[0mshuffle\u001b[0m\u001b[0;34m=\u001b[0m\u001b[0mshuffle\u001b[0m\u001b[0;34m,\u001b[0m\u001b[0;34m\u001b[0m\u001b[0;34m\u001b[0m\u001b[0m\n\u001b[0;32m-> 1732\u001b[0;31m             initial_epoch=initial_epoch)\n\u001b[0m\u001b[1;32m   1733\u001b[0m \u001b[0;34m\u001b[0m\u001b[0m\n\u001b[1;32m   1734\u001b[0m     \u001b[0;34m@\u001b[0m\u001b[0minterfaces\u001b[0m\u001b[0;34m.\u001b[0m\u001b[0mlegacy_generator_methods_support\u001b[0m\u001b[0;34m\u001b[0m\u001b[0;34m\u001b[0m\u001b[0m\n",
            "\u001b[0;32m/usr/local/lib/python3.6/dist-packages/keras/engine/training_generator.py\u001b[0m in \u001b[0;36mfit_generator\u001b[0;34m(model, generator, steps_per_epoch, epochs, verbose, callbacks, validation_data, validation_steps, validation_freq, class_weight, max_queue_size, workers, use_multiprocessing, shuffle, initial_epoch)\u001b[0m\n\u001b[1;32m    218\u001b[0m                                             \u001b[0msample_weight\u001b[0m\u001b[0;34m=\u001b[0m\u001b[0msample_weight\u001b[0m\u001b[0;34m,\u001b[0m\u001b[0;34m\u001b[0m\u001b[0;34m\u001b[0m\u001b[0m\n\u001b[1;32m    219\u001b[0m                                             \u001b[0mclass_weight\u001b[0m\u001b[0;34m=\u001b[0m\u001b[0mclass_weight\u001b[0m\u001b[0;34m,\u001b[0m\u001b[0;34m\u001b[0m\u001b[0;34m\u001b[0m\u001b[0m\n\u001b[0;32m--> 220\u001b[0;31m                                             reset_metrics=False)\n\u001b[0m\u001b[1;32m    221\u001b[0m \u001b[0;34m\u001b[0m\u001b[0m\n\u001b[1;32m    222\u001b[0m                 \u001b[0mouts\u001b[0m \u001b[0;34m=\u001b[0m \u001b[0mto_list\u001b[0m\u001b[0;34m(\u001b[0m\u001b[0mouts\u001b[0m\u001b[0;34m)\u001b[0m\u001b[0;34m\u001b[0m\u001b[0;34m\u001b[0m\u001b[0m\n",
            "\u001b[0;32m/usr/local/lib/python3.6/dist-packages/keras/engine/training.py\u001b[0m in \u001b[0;36mtrain_on_batch\u001b[0;34m(self, x, y, sample_weight, class_weight, reset_metrics)\u001b[0m\n\u001b[1;32m   1512\u001b[0m             \u001b[0mins\u001b[0m \u001b[0;34m=\u001b[0m \u001b[0mx\u001b[0m \u001b[0;34m+\u001b[0m \u001b[0my\u001b[0m \u001b[0;34m+\u001b[0m \u001b[0msample_weights\u001b[0m\u001b[0;34m\u001b[0m\u001b[0;34m\u001b[0m\u001b[0m\n\u001b[1;32m   1513\u001b[0m         \u001b[0mself\u001b[0m\u001b[0;34m.\u001b[0m\u001b[0m_make_train_function\u001b[0m\u001b[0;34m(\u001b[0m\u001b[0;34m)\u001b[0m\u001b[0;34m\u001b[0m\u001b[0;34m\u001b[0m\u001b[0m\n\u001b[0;32m-> 1514\u001b[0;31m         \u001b[0moutputs\u001b[0m \u001b[0;34m=\u001b[0m \u001b[0mself\u001b[0m\u001b[0;34m.\u001b[0m\u001b[0mtrain_function\u001b[0m\u001b[0;34m(\u001b[0m\u001b[0mins\u001b[0m\u001b[0;34m)\u001b[0m\u001b[0;34m\u001b[0m\u001b[0;34m\u001b[0m\u001b[0m\n\u001b[0m\u001b[1;32m   1515\u001b[0m \u001b[0;34m\u001b[0m\u001b[0m\n\u001b[1;32m   1516\u001b[0m         \u001b[0;32mif\u001b[0m \u001b[0mreset_metrics\u001b[0m\u001b[0;34m:\u001b[0m\u001b[0;34m\u001b[0m\u001b[0;34m\u001b[0m\u001b[0m\n",
            "\u001b[0;32m/usr/local/lib/python3.6/dist-packages/tensorflow/python/keras/backend.py\u001b[0m in \u001b[0;36m__call__\u001b[0;34m(self, inputs)\u001b[0m\n\u001b[1;32m   3790\u001b[0m         \u001b[0mvalue\u001b[0m \u001b[0;34m=\u001b[0m \u001b[0mmath_ops\u001b[0m\u001b[0;34m.\u001b[0m\u001b[0mcast\u001b[0m\u001b[0;34m(\u001b[0m\u001b[0mvalue\u001b[0m\u001b[0;34m,\u001b[0m \u001b[0mtensor\u001b[0m\u001b[0;34m.\u001b[0m\u001b[0mdtype\u001b[0m\u001b[0;34m)\u001b[0m\u001b[0;34m\u001b[0m\u001b[0;34m\u001b[0m\u001b[0m\n\u001b[1;32m   3791\u001b[0m       \u001b[0mconverted_inputs\u001b[0m\u001b[0;34m.\u001b[0m\u001b[0mappend\u001b[0m\u001b[0;34m(\u001b[0m\u001b[0mvalue\u001b[0m\u001b[0;34m)\u001b[0m\u001b[0;34m\u001b[0m\u001b[0;34m\u001b[0m\u001b[0m\n\u001b[0;32m-> 3792\u001b[0;31m     \u001b[0moutputs\u001b[0m \u001b[0;34m=\u001b[0m \u001b[0mself\u001b[0m\u001b[0;34m.\u001b[0m\u001b[0m_graph_fn\u001b[0m\u001b[0;34m(\u001b[0m\u001b[0;34m*\u001b[0m\u001b[0mconverted_inputs\u001b[0m\u001b[0;34m)\u001b[0m\u001b[0;34m\u001b[0m\u001b[0;34m\u001b[0m\u001b[0m\n\u001b[0m\u001b[1;32m   3793\u001b[0m \u001b[0;34m\u001b[0m\u001b[0m\n\u001b[1;32m   3794\u001b[0m     \u001b[0;31m# EagerTensor.numpy() will often make a copy to ensure memory safety.\u001b[0m\u001b[0;34m\u001b[0m\u001b[0;34m\u001b[0m\u001b[0;34m\u001b[0m\u001b[0m\n",
            "\u001b[0;32m/usr/local/lib/python3.6/dist-packages/tensorflow/python/eager/function.py\u001b[0m in \u001b[0;36m__call__\u001b[0;34m(self, *args, **kwargs)\u001b[0m\n\u001b[1;32m   1603\u001b[0m       \u001b[0mTypeError\u001b[0m\u001b[0;34m:\u001b[0m \u001b[0mFor\u001b[0m \u001b[0minvalid\u001b[0m \u001b[0mpositional\u001b[0m\u001b[0;34m/\u001b[0m\u001b[0mkeyword\u001b[0m \u001b[0margument\u001b[0m \u001b[0mcombinations\u001b[0m\u001b[0;34m.\u001b[0m\u001b[0;34m\u001b[0m\u001b[0;34m\u001b[0m\u001b[0m\n\u001b[1;32m   1604\u001b[0m     \"\"\"\n\u001b[0;32m-> 1605\u001b[0;31m     \u001b[0;32mreturn\u001b[0m \u001b[0mself\u001b[0m\u001b[0;34m.\u001b[0m\u001b[0m_call_impl\u001b[0m\u001b[0;34m(\u001b[0m\u001b[0margs\u001b[0m\u001b[0;34m,\u001b[0m \u001b[0mkwargs\u001b[0m\u001b[0;34m)\u001b[0m\u001b[0;34m\u001b[0m\u001b[0;34m\u001b[0m\u001b[0m\n\u001b[0m\u001b[1;32m   1606\u001b[0m \u001b[0;34m\u001b[0m\u001b[0m\n\u001b[1;32m   1607\u001b[0m   \u001b[0;32mdef\u001b[0m \u001b[0m_call_impl\u001b[0m\u001b[0;34m(\u001b[0m\u001b[0mself\u001b[0m\u001b[0;34m,\u001b[0m \u001b[0margs\u001b[0m\u001b[0;34m,\u001b[0m \u001b[0mkwargs\u001b[0m\u001b[0;34m,\u001b[0m \u001b[0mcancellation_manager\u001b[0m\u001b[0;34m=\u001b[0m\u001b[0;32mNone\u001b[0m\u001b[0;34m)\u001b[0m\u001b[0;34m:\u001b[0m\u001b[0;34m\u001b[0m\u001b[0;34m\u001b[0m\u001b[0m\n",
            "\u001b[0;32m/usr/local/lib/python3.6/dist-packages/tensorflow/python/eager/function.py\u001b[0m in \u001b[0;36m_call_impl\u001b[0;34m(self, args, kwargs, cancellation_manager)\u001b[0m\n\u001b[1;32m   1643\u001b[0m       raise TypeError(\"Keyword arguments {} unknown. Expected {}.\".format(\n\u001b[1;32m   1644\u001b[0m           list(kwargs.keys()), list(self._arg_keywords)))\n\u001b[0;32m-> 1645\u001b[0;31m     \u001b[0;32mreturn\u001b[0m \u001b[0mself\u001b[0m\u001b[0;34m.\u001b[0m\u001b[0m_call_flat\u001b[0m\u001b[0;34m(\u001b[0m\u001b[0margs\u001b[0m\u001b[0;34m,\u001b[0m \u001b[0mself\u001b[0m\u001b[0;34m.\u001b[0m\u001b[0mcaptured_inputs\u001b[0m\u001b[0;34m,\u001b[0m \u001b[0mcancellation_manager\u001b[0m\u001b[0;34m)\u001b[0m\u001b[0;34m\u001b[0m\u001b[0;34m\u001b[0m\u001b[0m\n\u001b[0m\u001b[1;32m   1646\u001b[0m \u001b[0;34m\u001b[0m\u001b[0m\n\u001b[1;32m   1647\u001b[0m   \u001b[0;32mdef\u001b[0m \u001b[0m_filtered_call\u001b[0m\u001b[0;34m(\u001b[0m\u001b[0mself\u001b[0m\u001b[0;34m,\u001b[0m \u001b[0margs\u001b[0m\u001b[0;34m,\u001b[0m \u001b[0mkwargs\u001b[0m\u001b[0;34m)\u001b[0m\u001b[0;34m:\u001b[0m\u001b[0;34m\u001b[0m\u001b[0;34m\u001b[0m\u001b[0m\n",
            "\u001b[0;32m/usr/local/lib/python3.6/dist-packages/tensorflow/python/eager/function.py\u001b[0m in \u001b[0;36m_call_flat\u001b[0;34m(self, args, captured_inputs, cancellation_manager)\u001b[0m\n\u001b[1;32m   1744\u001b[0m       \u001b[0;31m# No tape is watching; skip to running the function.\u001b[0m\u001b[0;34m\u001b[0m\u001b[0;34m\u001b[0m\u001b[0;34m\u001b[0m\u001b[0m\n\u001b[1;32m   1745\u001b[0m       return self._build_call_outputs(self._inference_function.call(\n\u001b[0;32m-> 1746\u001b[0;31m           ctx, args, cancellation_manager=cancellation_manager))\n\u001b[0m\u001b[1;32m   1747\u001b[0m     forward_backward = self._select_forward_and_backward_functions(\n\u001b[1;32m   1748\u001b[0m         \u001b[0margs\u001b[0m\u001b[0;34m,\u001b[0m\u001b[0;34m\u001b[0m\u001b[0;34m\u001b[0m\u001b[0m\n",
            "\u001b[0;32m/usr/local/lib/python3.6/dist-packages/tensorflow/python/eager/function.py\u001b[0m in \u001b[0;36mcall\u001b[0;34m(self, ctx, args, cancellation_manager)\u001b[0m\n\u001b[1;32m    596\u001b[0m               \u001b[0minputs\u001b[0m\u001b[0;34m=\u001b[0m\u001b[0margs\u001b[0m\u001b[0;34m,\u001b[0m\u001b[0;34m\u001b[0m\u001b[0;34m\u001b[0m\u001b[0m\n\u001b[1;32m    597\u001b[0m               \u001b[0mattrs\u001b[0m\u001b[0;34m=\u001b[0m\u001b[0mattrs\u001b[0m\u001b[0;34m,\u001b[0m\u001b[0;34m\u001b[0m\u001b[0;34m\u001b[0m\u001b[0m\n\u001b[0;32m--> 598\u001b[0;31m               ctx=ctx)\n\u001b[0m\u001b[1;32m    599\u001b[0m         \u001b[0;32melse\u001b[0m\u001b[0;34m:\u001b[0m\u001b[0;34m\u001b[0m\u001b[0;34m\u001b[0m\u001b[0m\n\u001b[1;32m    600\u001b[0m           outputs = execute.execute_with_cancellation(\n",
            "\u001b[0;32m/usr/local/lib/python3.6/dist-packages/tensorflow/python/eager/execute.py\u001b[0m in \u001b[0;36mquick_execute\u001b[0;34m(op_name, num_outputs, inputs, attrs, ctx, name)\u001b[0m\n\u001b[1;32m     58\u001b[0m     \u001b[0mctx\u001b[0m\u001b[0;34m.\u001b[0m\u001b[0mensure_initialized\u001b[0m\u001b[0;34m(\u001b[0m\u001b[0;34m)\u001b[0m\u001b[0;34m\u001b[0m\u001b[0;34m\u001b[0m\u001b[0m\n\u001b[1;32m     59\u001b[0m     tensors = pywrap_tfe.TFE_Py_Execute(ctx._handle, device_name, op_name,\n\u001b[0;32m---> 60\u001b[0;31m                                         inputs, attrs, num_outputs)\n\u001b[0m\u001b[1;32m     61\u001b[0m   \u001b[0;32mexcept\u001b[0m \u001b[0mcore\u001b[0m\u001b[0;34m.\u001b[0m\u001b[0m_NotOkStatusException\u001b[0m \u001b[0;32mas\u001b[0m \u001b[0me\u001b[0m\u001b[0;34m:\u001b[0m\u001b[0;34m\u001b[0m\u001b[0;34m\u001b[0m\u001b[0m\n\u001b[1;32m     62\u001b[0m     \u001b[0;32mif\u001b[0m \u001b[0mname\u001b[0m \u001b[0;32mis\u001b[0m \u001b[0;32mnot\u001b[0m \u001b[0;32mNone\u001b[0m\u001b[0;34m:\u001b[0m\u001b[0;34m\u001b[0m\u001b[0;34m\u001b[0m\u001b[0m\n",
            "\u001b[0;31mKeyboardInterrupt\u001b[0m: "
          ]
        }
      ]
    },
    {
      "cell_type": "code",
      "metadata": {
        "id": "VxgKCxPXjBTc",
        "colab_type": "code",
        "colab": {}
      },
      "source": [
        ""
      ],
      "execution_count": null,
      "outputs": []
    }
  ]
}